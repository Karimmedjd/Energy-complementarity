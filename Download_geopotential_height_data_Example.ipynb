{
 "cells": [
  {
   "cell_type": "code",
   "execution_count": 1,
   "id": "e13f0794",
   "metadata": {},
   "outputs": [
    {
     "name": "stderr",
     "output_type": "stream",
     "text": [
      "2022-05-28 19:23:24,629 INFO Welcome to the CDS\n",
      "2022-05-28 19:23:24,634 INFO Sending request to https://cds.climate.copernicus.eu/api/v2/resources/reanalysis-era5-single-levels\n",
      "2022-05-28 19:23:24,773 INFO Request is queued\n",
      "2022-05-28 19:23:25,829 INFO Request is running\n",
      "2022-05-28 19:26:16,392 INFO Request is completed\n",
      "2022-05-28 19:26:16,395 INFO Downloading https://download-0004-clone.copernicus-climate.eu/cache-compute-0004/cache/data4/adaptor.mars.internal-1653758730.75421-27811-7-53bccfe0-bfa5-4139-9acb-7b4ca8e7ceb8.nc to geopotential.nc (26.2M)\n",
      "2022-05-28 19:26:21,738 INFO Download rate 4.9M/s   \n"
     ]
    },
    {
     "data": {
      "text/plain": [
       "Result(content_length=27435284,content_type=application/x-netcdf,location=https://download-0004-clone.copernicus-climate.eu/cache-compute-0004/cache/data4/adaptor.mars.internal-1653758730.75421-27811-7-53bccfe0-bfa5-4139-9acb-7b4ca8e7ceb8.nc)"
      ]
     },
     "execution_count": 1,
     "metadata": {},
     "output_type": "execute_result"
    }
   ],
   "source": [
    "import cdsapi\n",
    "\n",
    "c = cdsapi.Client()\n",
    "\n",
    "c.retrieve(\n",
    "    'reanalysis-era5-single-levels',\n",
    "    {\n",
    "        'product_type': 'reanalysis',\n",
    "        'variable': 'geopotential',\n",
    "        'year': '2018',\n",
    "        'month': [\n",
    "            '01', '02', '03',\n",
    "            '04', '05', '06',\n",
    "            '07', '08', '09',\n",
    "            '10', '11', '12',\n",
    "        ],\n",
    "        'day': [\n",
    "            '01', '02', '03',\n",
    "            '04', '05', '06',\n",
    "            '07', '08', '09',\n",
    "            '10', '11', '12',\n",
    "            '13', '14', '15',\n",
    "            '16', '17', '18',\n",
    "            '19', '20', '21',\n",
    "            '22', '23', '24',\n",
    "            '25', '26', '27',\n",
    "            '28', '29', '30',\n",
    "            '31',\n",
    "        ],\n",
    "        'time': [\n",
    "            '00:00', '06:00', '12:00',\n",
    "            '18:00',\n",
    "        ],\n",
    "        'area': [\n",
    "            38, -10, 15,\n",
    "            15,\n",
    "        ],\n",
    "        'format': 'netcdf',\n",
    "    },\n",
    "    'geopotential.nc')\n"
   ]
  },
  {
   "cell_type": "code",
   "execution_count": null,
   "id": "be639a0a",
   "metadata": {},
   "outputs": [],
   "source": []
  }
 ],
 "metadata": {
  "kernelspec": {
   "display_name": "Python 3",
   "language": "python",
   "name": "python3"
  },
  "language_info": {
   "codemirror_mode": {
    "name": "ipython",
    "version": 3
   },
   "file_extension": ".py",
   "mimetype": "text/x-python",
   "name": "python",
   "nbconvert_exporter": "python",
   "pygments_lexer": "ipython3",
   "version": "3.8.8"
  }
 },
 "nbformat": 4,
 "nbformat_minor": 5
}
